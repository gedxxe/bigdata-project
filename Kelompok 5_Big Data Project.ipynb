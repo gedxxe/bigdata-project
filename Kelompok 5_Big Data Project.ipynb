{
 "cells": [
  {
   "cell_type": "code",
   "execution_count": 1,
   "metadata": {},
   "outputs": [],
   "source": [
    "import numpy as np\n",
    "import pandas as pd\n",
    "import matplotlib.pyplot as plt\n",
    "import seaborn as sns\n",
    "\n",
    "from abc import ABC,abstractmethod\n",
    "from typing import Dict, Any\n",
    "from scipy import stats\n",
    "# from sklearn.model_selection import train_test_split\n",
    "# from sklearn.neighbors import KNeighborsClassifier"
   ]
  },
  {
   "cell_type": "code",
   "execution_count": 2,
   "metadata": {},
   "outputs": [
    {
     "name": "stderr",
     "output_type": "stream",
     "text": [
      "C:\\Users\\gedee\\AppData\\Local\\Temp\\ipykernel_70556\\283611775.py:1: DtypeWarning: Columns (0,27) have mixed types. Specify dtype option on import or set low_memory=False.\n",
      "  df = pd.read_csv(\"HomeC.csv\")\n"
     ]
    },
    {
     "data": {
      "text/html": [
       "<div>\n",
       "<style scoped>\n",
       "    .dataframe tbody tr th:only-of-type {\n",
       "        vertical-align: middle;\n",
       "    }\n",
       "\n",
       "    .dataframe tbody tr th {\n",
       "        vertical-align: top;\n",
       "    }\n",
       "\n",
       "    .dataframe thead th {\n",
       "        text-align: right;\n",
       "    }\n",
       "</style>\n",
       "<table border=\"1\" class=\"dataframe\">\n",
       "  <thead>\n",
       "    <tr style=\"text-align: right;\">\n",
       "      <th></th>\n",
       "      <th>time</th>\n",
       "      <th>use [kW]</th>\n",
       "      <th>gen [kW]</th>\n",
       "      <th>House overall [kW]</th>\n",
       "      <th>Dishwasher [kW]</th>\n",
       "      <th>Furnace 1 [kW]</th>\n",
       "      <th>Furnace 2 [kW]</th>\n",
       "      <th>Home office [kW]</th>\n",
       "      <th>Fridge [kW]</th>\n",
       "      <th>Wine cellar [kW]</th>\n",
       "      <th>...</th>\n",
       "      <th>visibility</th>\n",
       "      <th>summary</th>\n",
       "      <th>apparentTemperature</th>\n",
       "      <th>pressure</th>\n",
       "      <th>windSpeed</th>\n",
       "      <th>cloudCover</th>\n",
       "      <th>windBearing</th>\n",
       "      <th>precipIntensity</th>\n",
       "      <th>dewPoint</th>\n",
       "      <th>precipProbability</th>\n",
       "    </tr>\n",
       "  </thead>\n",
       "  <tbody>\n",
       "    <tr>\n",
       "      <th>0</th>\n",
       "      <td>1451624400</td>\n",
       "      <td>0.932833</td>\n",
       "      <td>0.003483</td>\n",
       "      <td>0.932833</td>\n",
       "      <td>0.000033</td>\n",
       "      <td>0.020700</td>\n",
       "      <td>0.061917</td>\n",
       "      <td>0.442633</td>\n",
       "      <td>0.124150</td>\n",
       "      <td>0.006983</td>\n",
       "      <td>...</td>\n",
       "      <td>10.0</td>\n",
       "      <td>Clear</td>\n",
       "      <td>29.26</td>\n",
       "      <td>1016.91</td>\n",
       "      <td>9.18</td>\n",
       "      <td>cloudCover</td>\n",
       "      <td>282.0</td>\n",
       "      <td>0.0</td>\n",
       "      <td>24.4</td>\n",
       "      <td>0.0</td>\n",
       "    </tr>\n",
       "    <tr>\n",
       "      <th>1</th>\n",
       "      <td>1451624401</td>\n",
       "      <td>0.934333</td>\n",
       "      <td>0.003467</td>\n",
       "      <td>0.934333</td>\n",
       "      <td>0.000000</td>\n",
       "      <td>0.020717</td>\n",
       "      <td>0.063817</td>\n",
       "      <td>0.444067</td>\n",
       "      <td>0.124000</td>\n",
       "      <td>0.006983</td>\n",
       "      <td>...</td>\n",
       "      <td>10.0</td>\n",
       "      <td>Clear</td>\n",
       "      <td>29.26</td>\n",
       "      <td>1016.91</td>\n",
       "      <td>9.18</td>\n",
       "      <td>cloudCover</td>\n",
       "      <td>282.0</td>\n",
       "      <td>0.0</td>\n",
       "      <td>24.4</td>\n",
       "      <td>0.0</td>\n",
       "    </tr>\n",
       "    <tr>\n",
       "      <th>2</th>\n",
       "      <td>1451624402</td>\n",
       "      <td>0.931817</td>\n",
       "      <td>0.003467</td>\n",
       "      <td>0.931817</td>\n",
       "      <td>0.000017</td>\n",
       "      <td>0.020700</td>\n",
       "      <td>0.062317</td>\n",
       "      <td>0.446067</td>\n",
       "      <td>0.123533</td>\n",
       "      <td>0.006983</td>\n",
       "      <td>...</td>\n",
       "      <td>10.0</td>\n",
       "      <td>Clear</td>\n",
       "      <td>29.26</td>\n",
       "      <td>1016.91</td>\n",
       "      <td>9.18</td>\n",
       "      <td>cloudCover</td>\n",
       "      <td>282.0</td>\n",
       "      <td>0.0</td>\n",
       "      <td>24.4</td>\n",
       "      <td>0.0</td>\n",
       "    </tr>\n",
       "    <tr>\n",
       "      <th>3</th>\n",
       "      <td>1451624403</td>\n",
       "      <td>1.022050</td>\n",
       "      <td>0.003483</td>\n",
       "      <td>1.022050</td>\n",
       "      <td>0.000017</td>\n",
       "      <td>0.106900</td>\n",
       "      <td>0.068517</td>\n",
       "      <td>0.446583</td>\n",
       "      <td>0.123133</td>\n",
       "      <td>0.006983</td>\n",
       "      <td>...</td>\n",
       "      <td>10.0</td>\n",
       "      <td>Clear</td>\n",
       "      <td>29.26</td>\n",
       "      <td>1016.91</td>\n",
       "      <td>9.18</td>\n",
       "      <td>cloudCover</td>\n",
       "      <td>282.0</td>\n",
       "      <td>0.0</td>\n",
       "      <td>24.4</td>\n",
       "      <td>0.0</td>\n",
       "    </tr>\n",
       "    <tr>\n",
       "      <th>4</th>\n",
       "      <td>1451624404</td>\n",
       "      <td>1.139400</td>\n",
       "      <td>0.003467</td>\n",
       "      <td>1.139400</td>\n",
       "      <td>0.000133</td>\n",
       "      <td>0.236933</td>\n",
       "      <td>0.063983</td>\n",
       "      <td>0.446533</td>\n",
       "      <td>0.122850</td>\n",
       "      <td>0.006850</td>\n",
       "      <td>...</td>\n",
       "      <td>10.0</td>\n",
       "      <td>Clear</td>\n",
       "      <td>29.26</td>\n",
       "      <td>1016.91</td>\n",
       "      <td>9.18</td>\n",
       "      <td>cloudCover</td>\n",
       "      <td>282.0</td>\n",
       "      <td>0.0</td>\n",
       "      <td>24.4</td>\n",
       "      <td>0.0</td>\n",
       "    </tr>\n",
       "  </tbody>\n",
       "</table>\n",
       "<p>5 rows × 32 columns</p>\n",
       "</div>"
      ],
      "text/plain": [
       "         time  use [kW]  gen [kW]  House overall [kW]  Dishwasher [kW]  \\\n",
       "0  1451624400  0.932833  0.003483            0.932833         0.000033   \n",
       "1  1451624401  0.934333  0.003467            0.934333         0.000000   \n",
       "2  1451624402  0.931817  0.003467            0.931817         0.000017   \n",
       "3  1451624403  1.022050  0.003483            1.022050         0.000017   \n",
       "4  1451624404  1.139400  0.003467            1.139400         0.000133   \n",
       "\n",
       "   Furnace 1 [kW]  Furnace 2 [kW]  Home office [kW]  Fridge [kW]  \\\n",
       "0        0.020700        0.061917          0.442633     0.124150   \n",
       "1        0.020717        0.063817          0.444067     0.124000   \n",
       "2        0.020700        0.062317          0.446067     0.123533   \n",
       "3        0.106900        0.068517          0.446583     0.123133   \n",
       "4        0.236933        0.063983          0.446533     0.122850   \n",
       "\n",
       "   Wine cellar [kW]  ...  visibility  summary  apparentTemperature  pressure  \\\n",
       "0          0.006983  ...        10.0    Clear                29.26   1016.91   \n",
       "1          0.006983  ...        10.0    Clear                29.26   1016.91   \n",
       "2          0.006983  ...        10.0    Clear                29.26   1016.91   \n",
       "3          0.006983  ...        10.0    Clear                29.26   1016.91   \n",
       "4          0.006850  ...        10.0    Clear                29.26   1016.91   \n",
       "\n",
       "   windSpeed  cloudCover  windBearing  precipIntensity  dewPoint  \\\n",
       "0       9.18  cloudCover        282.0              0.0      24.4   \n",
       "1       9.18  cloudCover        282.0              0.0      24.4   \n",
       "2       9.18  cloudCover        282.0              0.0      24.4   \n",
       "3       9.18  cloudCover        282.0              0.0      24.4   \n",
       "4       9.18  cloudCover        282.0              0.0      24.4   \n",
       "\n",
       "   precipProbability  \n",
       "0                0.0  \n",
       "1                0.0  \n",
       "2                0.0  \n",
       "3                0.0  \n",
       "4                0.0  \n",
       "\n",
       "[5 rows x 32 columns]"
      ]
     },
     "execution_count": 2,
     "metadata": {},
     "output_type": "execute_result"
    }
   ],
   "source": [
    "df = pd.read_csv(\"HomeC.csv\")\n",
    "df.head()"
   ]
  },
  {
   "cell_type": "code",
   "execution_count": 3,
   "metadata": {},
   "outputs": [
    {
     "data": {
      "text/plain": [
       "Clear                       376730\n",
       "Partly Cloudy                62268\n",
       "Light Rain                   27368\n",
       "Drizzle                      10370\n",
       "Overcast                      6041\n",
       "Rain                          5169\n",
       "Mostly Cloudy                 4548\n",
       "Light Snow                    4323\n",
       "Flurries                      1789\n",
       "Breezy                        1561\n",
       "Snow                          1152\n",
       "Breezy and Partly Cloudy      1041\n",
       "Foggy                          974\n",
       "Rain and Breezy                174\n",
       "Heavy Snow                     171\n",
       "Flurries and Breezy            115\n",
       "Breezy and Mostly Cloudy        58\n",
       "Dry                             58\n",
       "Name: summary, dtype: int64"
      ]
     },
     "execution_count": 3,
     "metadata": {},
     "output_type": "execute_result"
    }
   ],
   "source": [
    "df.summary.value_counts()"
   ]
  },
  {
   "cell_type": "code",
   "execution_count": 4,
   "metadata": {},
   "outputs": [
    {
     "data": {
      "text/plain": [
       "time                   0\n",
       "use [kW]               1\n",
       "gen [kW]               1\n",
       "House overall [kW]     1\n",
       "Dishwasher [kW]        1\n",
       "Furnace 1 [kW]         1\n",
       "Furnace 2 [kW]         1\n",
       "Home office [kW]       1\n",
       "Fridge [kW]            1\n",
       "Wine cellar [kW]       1\n",
       "Garage door [kW]       1\n",
       "Kitchen 12 [kW]        1\n",
       "Kitchen 14 [kW]        1\n",
       "Kitchen 38 [kW]        1\n",
       "Barn [kW]              1\n",
       "Well [kW]              1\n",
       "Microwave [kW]         1\n",
       "Living room [kW]       1\n",
       "Solar [kW]             1\n",
       "temperature            1\n",
       "icon                   1\n",
       "humidity               1\n",
       "visibility             1\n",
       "summary                1\n",
       "apparentTemperature    1\n",
       "pressure               1\n",
       "windSpeed              1\n",
       "cloudCover             1\n",
       "windBearing            1\n",
       "precipIntensity        1\n",
       "dewPoint               1\n",
       "precipProbability      1\n",
       "dtype: int64"
      ]
     },
     "execution_count": 4,
     "metadata": {},
     "output_type": "execute_result"
    }
   ],
   "source": [
    "df.isna().sum()"
   ]
  },
  {
   "cell_type": "code",
   "execution_count": 5,
   "metadata": {},
   "outputs": [],
   "source": [
    "# This function is used to remove missing values (NaN values) from the DataFrame.\n",
    "df.dropna(inplace=True)\n"
   ]
  },
  {
   "cell_type": "code",
   "execution_count": 6,
   "metadata": {},
   "outputs": [],
   "source": [
    "def change_class(x):\n",
    "    if 'Clear' in x:\n",
    "        return 0\n",
    "    if 'Cloudy' in x:\n",
    "        return 1\n",
    "    if \"Breezy\" in x:\n",
    "        return 1\n",
    "    else:\n",
    "        return 2\n",
    "\n",
    "df['summary'] = df['summary'].map(lambda x: change_class(x))\n",
    "\n",
    "df = df[['temperature', 'windSpeed', 'humidity', 'summary']]\n",
    "\n",
    "df.summary.value_counts()\n",
    "\n",
    "df.drop_duplicates(inplace=True)"
   ]
  },
  {
   "cell_type": "code",
   "execution_count": 7,
   "metadata": {},
   "outputs": [
    {
     "data": {
      "text/html": [
       "<div>\n",
       "<style scoped>\n",
       "    .dataframe tbody tr th:only-of-type {\n",
       "        vertical-align: middle;\n",
       "    }\n",
       "\n",
       "    .dataframe tbody tr th {\n",
       "        vertical-align: top;\n",
       "    }\n",
       "\n",
       "    .dataframe thead th {\n",
       "        text-align: right;\n",
       "    }\n",
       "</style>\n",
       "<table border=\"1\" class=\"dataframe\">\n",
       "  <thead>\n",
       "    <tr style=\"text-align: right;\">\n",
       "      <th></th>\n",
       "      <th>temperature</th>\n",
       "      <th>windSpeed</th>\n",
       "      <th>humidity</th>\n",
       "      <th>summary</th>\n",
       "    </tr>\n",
       "  </thead>\n",
       "  <tbody>\n",
       "    <tr>\n",
       "      <th>0</th>\n",
       "      <td>36.14</td>\n",
       "      <td>9.18</td>\n",
       "      <td>0.62</td>\n",
       "      <td>0</td>\n",
       "    </tr>\n",
       "    <tr>\n",
       "      <th>58</th>\n",
       "      <td>35.87</td>\n",
       "      <td>8.29</td>\n",
       "      <td>0.61</td>\n",
       "      <td>1</td>\n",
       "    </tr>\n",
       "    <tr>\n",
       "      <th>116</th>\n",
       "      <td>35.40</td>\n",
       "      <td>8.20</td>\n",
       "      <td>0.61</td>\n",
       "      <td>0</td>\n",
       "    </tr>\n",
       "    <tr>\n",
       "      <th>174</th>\n",
       "      <td>35.25</td>\n",
       "      <td>5.47</td>\n",
       "      <td>0.64</td>\n",
       "      <td>0</td>\n",
       "    </tr>\n",
       "    <tr>\n",
       "      <th>232</th>\n",
       "      <td>35.49</td>\n",
       "      <td>7.08</td>\n",
       "      <td>0.64</td>\n",
       "      <td>0</td>\n",
       "    </tr>\n",
       "    <tr>\n",
       "      <th>...</th>\n",
       "      <td>...</td>\n",
       "      <td>...</td>\n",
       "      <td>...</td>\n",
       "      <td>...</td>\n",
       "    </tr>\n",
       "    <tr>\n",
       "      <th>503627</th>\n",
       "      <td>36.63</td>\n",
       "      <td>10.97</td>\n",
       "      <td>0.72</td>\n",
       "      <td>2</td>\n",
       "    </tr>\n",
       "    <tr>\n",
       "      <th>503684</th>\n",
       "      <td>37.98</td>\n",
       "      <td>11.77</td>\n",
       "      <td>0.69</td>\n",
       "      <td>1</td>\n",
       "    </tr>\n",
       "    <tr>\n",
       "      <th>503741</th>\n",
       "      <td>36.73</td>\n",
       "      <td>12.40</td>\n",
       "      <td>0.79</td>\n",
       "      <td>2</td>\n",
       "    </tr>\n",
       "    <tr>\n",
       "      <th>503798</th>\n",
       "      <td>35.91</td>\n",
       "      <td>7.82</td>\n",
       "      <td>0.82</td>\n",
       "      <td>2</td>\n",
       "    </tr>\n",
       "    <tr>\n",
       "      <th>503855</th>\n",
       "      <td>35.12</td>\n",
       "      <td>6.72</td>\n",
       "      <td>0.86</td>\n",
       "      <td>2</td>\n",
       "    </tr>\n",
       "  </tbody>\n",
       "</table>\n",
       "<p>8760 rows × 4 columns</p>\n",
       "</div>"
      ],
      "text/plain": [
       "        temperature  windSpeed  humidity  summary\n",
       "0             36.14       9.18      0.62        0\n",
       "58            35.87       8.29      0.61        1\n",
       "116           35.40       8.20      0.61        0\n",
       "174           35.25       5.47      0.64        0\n",
       "232           35.49       7.08      0.64        0\n",
       "...             ...        ...       ...      ...\n",
       "503627        36.63      10.97      0.72        2\n",
       "503684        37.98      11.77      0.69        1\n",
       "503741        36.73      12.40      0.79        2\n",
       "503798        35.91       7.82      0.82        2\n",
       "503855        35.12       6.72      0.86        2\n",
       "\n",
       "[8760 rows x 4 columns]"
      ]
     },
     "execution_count": 7,
     "metadata": {},
     "output_type": "execute_result"
    }
   ],
   "source": [
    "df"
   ]
  },
  {
   "cell_type": "code",
   "execution_count": 8,
   "metadata": {},
   "outputs": [],
   "source": [
    "df = pd.concat([df[df.summary == 0][:100], df[df.summary==1][:100], df[df.summary==2][:100]])"
   ]
  },
  {
   "cell_type": "code",
   "execution_count": 9,
   "metadata": {},
   "outputs": [
    {
     "data": {
      "text/html": [
       "<div>\n",
       "<style scoped>\n",
       "    .dataframe tbody tr th:only-of-type {\n",
       "        vertical-align: middle;\n",
       "    }\n",
       "\n",
       "    .dataframe tbody tr th {\n",
       "        vertical-align: top;\n",
       "    }\n",
       "\n",
       "    .dataframe thead th {\n",
       "        text-align: right;\n",
       "    }\n",
       "</style>\n",
       "<table border=\"1\" class=\"dataframe\">\n",
       "  <thead>\n",
       "    <tr style=\"text-align: right;\">\n",
       "      <th></th>\n",
       "      <th>temperature</th>\n",
       "      <th>windSpeed</th>\n",
       "      <th>humidity</th>\n",
       "      <th>summary</th>\n",
       "    </tr>\n",
       "  </thead>\n",
       "  <tbody>\n",
       "    <tr>\n",
       "      <th>0</th>\n",
       "      <td>36.14</td>\n",
       "      <td>9.18</td>\n",
       "      <td>0.62</td>\n",
       "      <td>0</td>\n",
       "    </tr>\n",
       "    <tr>\n",
       "      <th>116</th>\n",
       "      <td>35.40</td>\n",
       "      <td>8.20</td>\n",
       "      <td>0.61</td>\n",
       "      <td>0</td>\n",
       "    </tr>\n",
       "    <tr>\n",
       "      <th>174</th>\n",
       "      <td>35.25</td>\n",
       "      <td>5.47</td>\n",
       "      <td>0.64</td>\n",
       "      <td>0</td>\n",
       "    </tr>\n",
       "    <tr>\n",
       "      <th>232</th>\n",
       "      <td>35.49</td>\n",
       "      <td>7.08</td>\n",
       "      <td>0.64</td>\n",
       "      <td>0</td>\n",
       "    </tr>\n",
       "    <tr>\n",
       "      <th>290</th>\n",
       "      <td>35.26</td>\n",
       "      <td>6.45</td>\n",
       "      <td>0.65</td>\n",
       "      <td>0</td>\n",
       "    </tr>\n",
       "    <tr>\n",
       "      <th>...</th>\n",
       "      <td>...</td>\n",
       "      <td>...</td>\n",
       "      <td>...</td>\n",
       "      <td>...</td>\n",
       "    </tr>\n",
       "    <tr>\n",
       "      <th>63684</th>\n",
       "      <td>15.77</td>\n",
       "      <td>4.78</td>\n",
       "      <td>0.78</td>\n",
       "      <td>2</td>\n",
       "    </tr>\n",
       "    <tr>\n",
       "      <th>63742</th>\n",
       "      <td>16.17</td>\n",
       "      <td>5.55</td>\n",
       "      <td>0.80</td>\n",
       "      <td>2</td>\n",
       "    </tr>\n",
       "    <tr>\n",
       "      <th>63800</th>\n",
       "      <td>16.96</td>\n",
       "      <td>4.87</td>\n",
       "      <td>0.82</td>\n",
       "      <td>2</td>\n",
       "    </tr>\n",
       "    <tr>\n",
       "      <th>63858</th>\n",
       "      <td>17.56</td>\n",
       "      <td>6.74</td>\n",
       "      <td>0.83</td>\n",
       "      <td>2</td>\n",
       "    </tr>\n",
       "    <tr>\n",
       "      <th>63916</th>\n",
       "      <td>18.85</td>\n",
       "      <td>7.58</td>\n",
       "      <td>0.84</td>\n",
       "      <td>2</td>\n",
       "    </tr>\n",
       "  </tbody>\n",
       "</table>\n",
       "<p>300 rows × 4 columns</p>\n",
       "</div>"
      ],
      "text/plain": [
       "       temperature  windSpeed  humidity  summary\n",
       "0            36.14       9.18      0.62        0\n",
       "116          35.40       8.20      0.61        0\n",
       "174          35.25       5.47      0.64        0\n",
       "232          35.49       7.08      0.64        0\n",
       "290          35.26       6.45      0.65        0\n",
       "...            ...        ...       ...      ...\n",
       "63684        15.77       4.78      0.78        2\n",
       "63742        16.17       5.55      0.80        2\n",
       "63800        16.96       4.87      0.82        2\n",
       "63858        17.56       6.74      0.83        2\n",
       "63916        18.85       7.58      0.84        2\n",
       "\n",
       "[300 rows x 4 columns]"
      ]
     },
     "execution_count": 9,
     "metadata": {},
     "output_type": "execute_result"
    }
   ],
   "source": [
    "df"
   ]
  },
  {
   "cell_type": "code",
   "execution_count": 10,
   "metadata": {},
   "outputs": [],
   "source": [
    "X = df.drop('summary', axis=1)\n",
    "y = df.summary\n",
    "\n",
    "# X_train, X_test, y_train, y_test = train_test_split(X,y, test_size=0.2, stratify=y,random_state=42)\n",
    "# X_train.shape, X_test.shape, y_train.shape, y_test.shape"
   ]
  },
  {
   "cell_type": "code",
   "execution_count": 11,
   "metadata": {},
   "outputs": [],
   "source": [
    "class KNN(ABC):\n",
    "    \"\"\"\n",
    "    Base class for KNN implementations\n",
    "    \"\"\"\n",
    "    def __init__(self, K: int = 3, metric: str = 'minkowski', p: int = 2) -> None:\n",
    "        \"\"\"\n",
    "        Initializer function. Ensure that input parameters are compatiable.\n",
    "        Inputs:\n",
    "        K -> integer specifying number of neighbours to consider\n",
    "        metric -> string to indicate the distance metric to use (valid entries are 'minkowski' or 'cosine')\n",
    "        p -> order of the minkowski metric (valid only when distance == 'minkowski')\n",
    "        \"\"\"\n",
    "        # check distance is a valid entry\n",
    "        valid_distance = ['minkowski','cosine']\n",
    "        if metric not in valid_distance:\n",
    "            msg = \"Entered value for metric is not valid. Pick one of {}\".format(valid_distance)\n",
    "            raise ValueError(msg)\n",
    "\n",
    "        # check minkowski p parameter\n",
    "        if (metric == 'minkowski') and (p <= 0):\n",
    "            msg = \"Entered value for p is not valid. For metric = 'minkowski', p >= 1\"\n",
    "            raise ValueError(msg)\n",
    "\n",
    "        # store/initialise input parameters\n",
    "        self.K = K\n",
    "        self.metric = metric\n",
    "        self.p = p\n",
    "        self.X_train = np.array([])\n",
    "        self.y_train = np.array([])\n",
    "\n",
    "    def __del__(self) -> None:\n",
    "        \"\"\"\n",
    "        Destructor function.\n",
    "        \"\"\"\n",
    "        del self.K\n",
    "        del self.metric\n",
    "        del self.p\n",
    "        del self.X_train\n",
    "        del self.y_train\n",
    "\n",
    "    def __minkowski(self, x: np.array) -> np.array:\n",
    "        \"\"\"\n",
    "        Private function to compute the minkowski distance between point x and the training data X\n",
    "        Inputs:\n",
    "        x -> numpy data point of predictors to consider\n",
    "        Outputs:\n",
    "        np.array -> numpy array of the computed distances\n",
    "        \"\"\"\n",
    "        return np.power(np.sum(np.power(np.abs(self.X_train - x),self.p),axis=1),1/self.p)\n",
    "\n",
    "    def __cosine(self, x: np.array) -> np.array:\n",
    "        \"\"\"\n",
    "        Private function to compute the cosine distance between point x and the training data X\n",
    "        Inputs:\n",
    "        x -> numpy data point of predictors to consider\n",
    "        Outputs:\n",
    "        np.array -> numpy array of the computed distances\n",
    "        \"\"\"\n",
    "        return (1 - (np.dot(self.X_train,x)/(np.linalg.norm(x)*np.linalg.norm(self.X_train,axis=1))) )\n",
    "\n",
    "    def __distances(self, X: np.array) -> np.array:\n",
    "        \"\"\"\n",
    "        Private function to compute distances to each point x in X[x,:]\n",
    "        Inputs:\n",
    "        X -> numpy array of points [x]\n",
    "        Outputs:\n",
    "        D -> numpy array containing distances from x to all points in the training set.\n",
    "        \"\"\"\n",
    "        # cover distance calculation\n",
    "        if self.metric == 'minkowski':\n",
    "            D = np.apply_along_axis(self.__minkowski,1,X)\n",
    "        elif self.metric == 'cosine':\n",
    "            D = np.apply_along_axis(self.__cosine,1,X)\n",
    "\n",
    "        # return computed distances\n",
    "        return D\n",
    "\n",
    "    @abstractmethod\n",
    "    def _generate_predictions(self, idx_neighbours: np.array) -> np.array:\n",
    "        \"\"\"\n",
    "        Protected function to compute predictions from the K nearest neighbours\n",
    "        \"\"\"\n",
    "        pass\n",
    "\n",
    "    def fit(self, X: np.array, y: np.array) -> None:\n",
    "        \"\"\"\n",
    "        Public training function for the class. It is assummed input X has been normalised.\n",
    "        Inputs:\n",
    "        X -> numpy array containing the predictor features\n",
    "        y -> numpy array containing the labels associated with each value in X\n",
    "        \"\"\"\n",
    "        # store training data\n",
    "        self.X_train = np.copy(X)\n",
    "        self.y_train = np.copy(y)\n",
    "\n",
    "    def predict(self, X: np.array) -> np.array:\n",
    "        \"\"\"\n",
    "        Public prediction function for the class.\n",
    "        It is assummed input X has been normalised in the same fashion as the input to the training function\n",
    "        Inputs:\n",
    "        X -> numpy array containing the predictor features\n",
    "        Outputs:\n",
    "        y_pred -> numpy array containing the predicted labels\n",
    "        \"\"\"\n",
    "        # ensure we have already trained the instance\n",
    "        if (self.X_train.size == 0) or (self.y_train.size == 0):\n",
    "            raise Exception('Model is not trained. Call fit before calling predict.')\n",
    "\n",
    "        # compute distances\n",
    "        D = self.__distances(X)\n",
    "\n",
    "        # obtain indices for the K nearest neighbours\n",
    "        idx_neighbours = D.argsort()[:,:self.K]\n",
    "\n",
    "        # compute predictions\n",
    "        y_pred = self._generate_predictions(idx_neighbours)\n",
    "\n",
    "        # return results\n",
    "        return y_pred\n",
    "\n",
    "    def get_params(self, deep: bool = False) -> Dict:\n",
    "        \"\"\"\n",
    "        Public function to return model parameters\n",
    "        Inputs:\n",
    "        deep -> boolean input parameter\n",
    "        Outputs:\n",
    "        Dict -> dictionary of stored class input parameters\n",
    "        \"\"\"\n",
    "        return {'K':self.K,\n",
    "                'metric':self.metric,\n",
    "                'p':self.p}\n",
    "\n",
    "#Generating kNN Classifier\n",
    "class KNNClassifier(KNN):\n",
    "    \"\"\"\n",
    "    Class for KNN classifiction implementation\n",
    "    \"\"\"\n",
    "    def __init__(self, K: int = 3, metric: str = 'minkowski', p: int = 2) -> None:\n",
    "        \"\"\"\n",
    "        Initializer function. Ensure that input parameters are compatiable.\n",
    "        Inputs:\n",
    "        K -> integer specifying number of neighbours to consider\n",
    "        metric -> string to indicate the distance metric to use (valid entries are 'minkowski' or 'cosine')\n",
    "        p -> order of the minkowski metric (valid only when distance == 'minkowski')\n",
    "        \"\"\"\n",
    "        # call base class initialiser\n",
    "        super().__init__(K,metric,p)\n",
    "\n",
    "    def _generate_predictions(self, idx_neighbours: np.array) -> np.array:\n",
    "        \"\"\"\n",
    "        Protected function to compute predictions from the K nearest neighbours\n",
    "        Inputs:\n",
    "        idx_neighbours -> indices of nearest neighbours\n",
    "        Outputs:\n",
    "        y_pred -> numpy array of prediction results\n",
    "        \"\"\"\n",
    "        # compute the mode label for each submitted sample\n",
    "        y_pred = stats.mode(self.y_train[idx_neighbours],axis=1).mode.flatten()\n",
    "\n",
    "        # return result\n",
    "        return y_pred"
   ]
  },
  {
   "cell_type": "code",
   "execution_count": 12,
   "metadata": {},
   "outputs": [
    {
     "name": "stderr",
     "output_type": "stream",
     "text": [
      "C:\\Users\\gedee\\AppData\\Local\\Temp\\ipykernel_70556\\2852923928.py:158: FutureWarning: Unlike other reduction functions (e.g. `skew`, `kurtosis`), the default behavior of `mode` typically preserves the axis it acts along. In SciPy 1.11.0, this behavior will change: the default value of `keepdims` will become False, the `axis` over which the statistic is taken will be eliminated, and the value None will no longer be accepted. Set `keepdims` to True or False to avoid this warning.\n",
      "  y_pred = stats.mode(self.y_train[idx_neighbours],axis=1).mode.flatten()\n"
     ]
    },
    {
     "data": {
      "text/plain": [
       "array([0, 1, 1, 0, 0, 0, 0, 0, 0, 0, 0, 0, 0, 0, 2, 0, 0, 0, 0, 0, 0, 0,\n",
       "       0, 1, 0, 0, 0, 0, 0, 0, 0, 0, 0, 0, 0, 0, 1, 0, 0, 0, 0, 0, 0, 0,\n",
       "       0, 0, 0, 0, 0, 0, 0, 1, 1, 0, 0, 0, 1, 0, 0, 0, 0, 0, 0, 0, 0, 0,\n",
       "       0, 0, 0, 0, 0, 0, 0, 0, 0, 0, 0, 0, 0, 0, 0, 0, 0, 2, 2, 2, 0, 0,\n",
       "       2, 2, 2, 0, 0, 0, 0, 0, 0, 0, 0, 0, 0, 0, 1, 1, 1, 1, 1, 1, 1, 0,\n",
       "       1, 0, 2, 1, 1, 1, 2, 1, 0, 0, 2, 0, 1, 1, 1, 1, 1, 1, 1, 1, 1, 2,\n",
       "       1, 1, 1, 1, 1, 0, 2, 0, 1, 1, 1, 1, 1, 1, 1, 1, 1, 1, 1, 2, 2, 1,\n",
       "       1, 1, 2, 1, 2, 2, 1, 1, 1, 0, 0, 0, 0, 1, 1, 1, 1, 1, 1, 0, 1, 1,\n",
       "       0, 1, 1, 1, 0, 2, 1, 1, 1, 1, 0, 2, 1, 1, 2, 2, 1, 1, 1, 1, 1, 1,\n",
       "       1, 2, 0, 0, 2, 2, 0, 1, 2, 2, 2, 2, 2, 2, 2, 2, 2, 2, 2, 2, 2, 2,\n",
       "       2, 2, 2, 2, 2, 2, 0, 2, 2, 2, 2, 2, 2, 1, 1, 2, 2, 2, 2, 2, 2, 2,\n",
       "       0, 0, 1, 2, 2, 2, 2, 2, 2, 2, 2, 2, 2, 2, 2, 2, 2, 0, 2, 2, 2, 2,\n",
       "       2, 2, 2, 2, 2, 2, 2, 0, 2, 2, 2, 2, 2, 2, 2, 2, 1, 2, 0, 2, 2, 2,\n",
       "       2, 2, 1, 2, 2, 2, 0, 1, 2, 2, 2, 1, 2, 2], dtype=int64)"
      ]
     },
     "execution_count": 12,
     "metadata": {},
     "output_type": "execute_result"
    }
   ],
   "source": [
    "knn = KNNClassifier(K=3)\n",
    "knn.fit(X, y)\n",
    "y_pred = knn.predict(X)\n",
    "y_pred"
   ]
  },
  {
   "cell_type": "code",
   "execution_count": 13,
   "metadata": {},
   "outputs": [
    {
     "data": {
      "text/plain": [
       "0.7866666666666666"
      ]
     },
     "execution_count": 13,
     "metadata": {},
     "output_type": "execute_result"
    }
   ],
   "source": [
    "accuracy = sum(y==y_pred)/len(y)\n",
    "accuracy"
   ]
  },
  {
   "cell_type": "markdown",
   "metadata": {},
   "source": [
    "NOW DECISION TREE CLASSIFIER!"
   ]
  },
  {
   "cell_type": "code",
   "execution_count": 15,
   "metadata": {},
   "outputs": [],
   "source": [
    "import warnings\n",
    "\n",
    "warnings.filterwarnings('ignore')"
   ]
  },
  {
   "cell_type": "code",
   "execution_count": 16,
   "metadata": {},
   "outputs": [
    {
     "data": {
      "text/plain": [
       "(300, 4)"
      ]
     },
     "execution_count": 16,
     "metadata": {},
     "output_type": "execute_result"
    }
   ],
   "source": [
    "# view dimensions of dataset\n",
    "\n",
    "df.shape"
   ]
  },
  {
   "cell_type": "code",
   "execution_count": 17,
   "metadata": {},
   "outputs": [
    {
     "data": {
      "text/html": [
       "<div>\n",
       "<style scoped>\n",
       "    .dataframe tbody tr th:only-of-type {\n",
       "        vertical-align: middle;\n",
       "    }\n",
       "\n",
       "    .dataframe tbody tr th {\n",
       "        vertical-align: top;\n",
       "    }\n",
       "\n",
       "    .dataframe thead th {\n",
       "        text-align: right;\n",
       "    }\n",
       "</style>\n",
       "<table border=\"1\" class=\"dataframe\">\n",
       "  <thead>\n",
       "    <tr style=\"text-align: right;\">\n",
       "      <th></th>\n",
       "      <th>temperature</th>\n",
       "      <th>windSpeed</th>\n",
       "      <th>humidity</th>\n",
       "      <th>summary</th>\n",
       "    </tr>\n",
       "  </thead>\n",
       "  <tbody>\n",
       "    <tr>\n",
       "      <th>0</th>\n",
       "      <td>36.14</td>\n",
       "      <td>9.18</td>\n",
       "      <td>0.62</td>\n",
       "      <td>0</td>\n",
       "    </tr>\n",
       "    <tr>\n",
       "      <th>116</th>\n",
       "      <td>35.40</td>\n",
       "      <td>8.20</td>\n",
       "      <td>0.61</td>\n",
       "      <td>0</td>\n",
       "    </tr>\n",
       "    <tr>\n",
       "      <th>174</th>\n",
       "      <td>35.25</td>\n",
       "      <td>5.47</td>\n",
       "      <td>0.64</td>\n",
       "      <td>0</td>\n",
       "    </tr>\n",
       "    <tr>\n",
       "      <th>232</th>\n",
       "      <td>35.49</td>\n",
       "      <td>7.08</td>\n",
       "      <td>0.64</td>\n",
       "      <td>0</td>\n",
       "    </tr>\n",
       "    <tr>\n",
       "      <th>290</th>\n",
       "      <td>35.26</td>\n",
       "      <td>6.45</td>\n",
       "      <td>0.65</td>\n",
       "      <td>0</td>\n",
       "    </tr>\n",
       "  </tbody>\n",
       "</table>\n",
       "</div>"
      ],
      "text/plain": [
       "     temperature  windSpeed  humidity  summary\n",
       "0          36.14       9.18      0.62        0\n",
       "116        35.40       8.20      0.61        0\n",
       "174        35.25       5.47      0.64        0\n",
       "232        35.49       7.08      0.64        0\n",
       "290        35.26       6.45      0.65        0"
      ]
     },
     "execution_count": 17,
     "metadata": {},
     "output_type": "execute_result"
    }
   ],
   "source": [
    "# preview the dataset\n",
    "\n",
    "df.head()"
   ]
  },
  {
   "cell_type": "code",
   "execution_count": 18,
   "metadata": {},
   "outputs": [
    {
     "name": "stdout",
     "output_type": "stream",
     "text": [
      "<class 'pandas.core.frame.DataFrame'>\n",
      "Int64Index: 300 entries, 0 to 63916\n",
      "Data columns (total 4 columns):\n",
      " #   Column       Non-Null Count  Dtype  \n",
      "---  ------       --------------  -----  \n",
      " 0   temperature  300 non-null    float64\n",
      " 1   windSpeed    300 non-null    float64\n",
      " 2   humidity     300 non-null    float64\n",
      " 3   summary      300 non-null    int64  \n",
      "dtypes: float64(3), int64(1)\n",
      "memory usage: 11.7 KB\n"
     ]
    }
   ],
   "source": [
    "df.info()"
   ]
  },
  {
   "cell_type": "code",
   "execution_count": 26,
   "metadata": {},
   "outputs": [
    {
     "name": "stdout",
     "output_type": "stream",
     "text": [
      "temperature  windSpeed  humidity  summary\n",
      "4.91         6.97       0.65      0          1\n",
      "34.88        5.14       0.77      1          1\n",
      "34.78        11.65      0.51      0          1\n",
      "             9.11       0.60      0          1\n",
      "34.77        5.74       0.91      2          1\n",
      "                                            ..\n",
      "25.20        1.81       0.74      1          1\n",
      "25.07        13.22      0.78      1          1\n",
      "24.96        11.99      0.61      0          1\n",
      "24.91        0.89       0.90      2          1\n",
      "56.36        10.76      0.87      2          1\n",
      "Length: 300, dtype: int64\n"
     ]
    }
   ],
   "source": [
    "    print(df.value_counts())   "
   ]
  },
  {
   "cell_type": "code",
   "execution_count": 31,
   "metadata": {},
   "outputs": [
    {
     "data": {
      "text/plain": [
       "0    100\n",
       "1    100\n",
       "2    100\n",
       "Name: summary, dtype: int64"
      ]
     },
     "execution_count": 31,
     "metadata": {},
     "output_type": "execute_result"
    }
   ],
   "source": [
    "df['summary'].value_counts()"
   ]
  },
  {
   "cell_type": "code",
   "execution_count": 32,
   "metadata": {},
   "outputs": [
    {
     "data": {
      "text/plain": [
       "temperature    0\n",
       "windSpeed      0\n",
       "humidity       0\n",
       "summary        0\n",
       "dtype: int64"
      ]
     },
     "execution_count": 32,
     "metadata": {},
     "output_type": "execute_result"
    }
   ],
   "source": [
    "df.isnull().sum()"
   ]
  },
  {
   "cell_type": "code",
   "execution_count": 34,
   "metadata": {},
   "outputs": [],
   "source": [
    "X = df.drop(['summary'], axis=1)\n",
    "\n",
    "y = df['summary']"
   ]
  },
  {
   "cell_type": "code",
   "execution_count": 35,
   "metadata": {},
   "outputs": [],
   "source": [
    "# split X and y into training and testing sets\n",
    "\n",
    "from sklearn.model_selection import train_test_split\n",
    "\n",
    "X_train, X_test, y_train, y_test = train_test_split(X, y, test_size = 0.33, random_state = 42)"
   ]
  },
  {
   "cell_type": "code",
   "execution_count": 36,
   "metadata": {},
   "outputs": [
    {
     "data": {
      "text/plain": [
       "((201, 3), (99, 3))"
      ]
     },
     "execution_count": 36,
     "metadata": {},
     "output_type": "execute_result"
    }
   ],
   "source": [
    "# check the shape of X_train and X_test\n",
    "\n",
    "X_train.shape, X_test.shape"
   ]
  },
  {
   "cell_type": "code",
   "execution_count": 37,
   "metadata": {},
   "outputs": [
    {
     "data": {
      "text/plain": [
       "temperature    float64\n",
       "windSpeed      float64\n",
       "humidity       float64\n",
       "dtype: object"
      ]
     },
     "execution_count": 37,
     "metadata": {},
     "output_type": "execute_result"
    }
   ],
   "source": [
    "# check data types in X_train\n",
    "\n",
    "X_train.dtypes"
   ]
  },
  {
   "cell_type": "code",
   "execution_count": 38,
   "metadata": {},
   "outputs": [
    {
     "data": {
      "text/html": [
       "<div>\n",
       "<style scoped>\n",
       "    .dataframe tbody tr th:only-of-type {\n",
       "        vertical-align: middle;\n",
       "    }\n",
       "\n",
       "    .dataframe tbody tr th {\n",
       "        vertical-align: top;\n",
       "    }\n",
       "\n",
       "    .dataframe thead th {\n",
       "        text-align: right;\n",
       "    }\n",
       "</style>\n",
       "<table border=\"1\" class=\"dataframe\">\n",
       "  <thead>\n",
       "    <tr style=\"text-align: right;\">\n",
       "      <th></th>\n",
       "      <th>temperature</th>\n",
       "      <th>windSpeed</th>\n",
       "      <th>humidity</th>\n",
       "    </tr>\n",
       "  </thead>\n",
       "  <tbody>\n",
       "    <tr>\n",
       "      <th>5278</th>\n",
       "      <td>11.71</td>\n",
       "      <td>12.40</td>\n",
       "      <td>0.52</td>\n",
       "    </tr>\n",
       "    <tr>\n",
       "      <th>21286</th>\n",
       "      <td>34.58</td>\n",
       "      <td>6.01</td>\n",
       "      <td>0.91</td>\n",
       "    </tr>\n",
       "    <tr>\n",
       "      <th>5394</th>\n",
       "      <td>9.39</td>\n",
       "      <td>13.79</td>\n",
       "      <td>0.56</td>\n",
       "    </tr>\n",
       "    <tr>\n",
       "      <th>2668</th>\n",
       "      <td>32.64</td>\n",
       "      <td>6.17</td>\n",
       "      <td>0.59</td>\n",
       "    </tr>\n",
       "    <tr>\n",
       "      <th>31378</th>\n",
       "      <td>26.27</td>\n",
       "      <td>15.93</td>\n",
       "      <td>0.58</td>\n",
       "    </tr>\n",
       "  </tbody>\n",
       "</table>\n",
       "</div>"
      ],
      "text/plain": [
       "       temperature  windSpeed  humidity\n",
       "5278         11.71      12.40      0.52\n",
       "21286        34.58       6.01      0.91\n",
       "5394          9.39      13.79      0.56\n",
       "2668         32.64       6.17      0.59\n",
       "31378        26.27      15.93      0.58"
      ]
     },
     "execution_count": 38,
     "metadata": {},
     "output_type": "execute_result"
    }
   ],
   "source": [
    "X_train.head()"
   ]
  },
  {
   "cell_type": "code",
   "execution_count": 40,
   "metadata": {},
   "outputs": [],
   "source": [
    "# import category encoders\n",
    "\n",
    "import category_encoders as ce"
   ]
  },
  {
   "cell_type": "code",
   "execution_count": 42,
   "metadata": {},
   "outputs": [],
   "source": [
    "# encode variables with ordinal encoding\n",
    "\n",
    "encoder = ce.OrdinalEncoder(cols=['temperature', 'windSpeed', 'humidity', ])\n",
    "\n",
    "\n",
    "X_train = encoder.fit_transform(X_train)\n",
    "\n",
    "X_test = encoder.transform(X_test)"
   ]
  },
  {
   "cell_type": "code",
   "execution_count": 43,
   "metadata": {},
   "outputs": [
    {
     "data": {
      "text/html": [
       "<div>\n",
       "<style scoped>\n",
       "    .dataframe tbody tr th:only-of-type {\n",
       "        vertical-align: middle;\n",
       "    }\n",
       "\n",
       "    .dataframe tbody tr th {\n",
       "        vertical-align: top;\n",
       "    }\n",
       "\n",
       "    .dataframe thead th {\n",
       "        text-align: right;\n",
       "    }\n",
       "</style>\n",
       "<table border=\"1\" class=\"dataframe\">\n",
       "  <thead>\n",
       "    <tr style=\"text-align: right;\">\n",
       "      <th></th>\n",
       "      <th>temperature</th>\n",
       "      <th>windSpeed</th>\n",
       "      <th>humidity</th>\n",
       "    </tr>\n",
       "  </thead>\n",
       "  <tbody>\n",
       "    <tr>\n",
       "      <th>5278</th>\n",
       "      <td>1</td>\n",
       "      <td>1</td>\n",
       "      <td>1</td>\n",
       "    </tr>\n",
       "    <tr>\n",
       "      <th>21286</th>\n",
       "      <td>2</td>\n",
       "      <td>2</td>\n",
       "      <td>2</td>\n",
       "    </tr>\n",
       "    <tr>\n",
       "      <th>5394</th>\n",
       "      <td>3</td>\n",
       "      <td>3</td>\n",
       "      <td>3</td>\n",
       "    </tr>\n",
       "    <tr>\n",
       "      <th>2668</th>\n",
       "      <td>4</td>\n",
       "      <td>4</td>\n",
       "      <td>4</td>\n",
       "    </tr>\n",
       "    <tr>\n",
       "      <th>31378</th>\n",
       "      <td>5</td>\n",
       "      <td>5</td>\n",
       "      <td>5</td>\n",
       "    </tr>\n",
       "  </tbody>\n",
       "</table>\n",
       "</div>"
      ],
      "text/plain": [
       "       temperature  windSpeed  humidity\n",
       "5278             1          1         1\n",
       "21286            2          2         2\n",
       "5394             3          3         3\n",
       "2668             4          4         4\n",
       "31378            5          5         5"
      ]
     },
     "execution_count": 43,
     "metadata": {},
     "output_type": "execute_result"
    }
   ],
   "source": [
    "X_train.head()"
   ]
  },
  {
   "cell_type": "code",
   "execution_count": 44,
   "metadata": {},
   "outputs": [
    {
     "data": {
      "text/html": [
       "<div>\n",
       "<style scoped>\n",
       "    .dataframe tbody tr th:only-of-type {\n",
       "        vertical-align: middle;\n",
       "    }\n",
       "\n",
       "    .dataframe tbody tr th {\n",
       "        vertical-align: top;\n",
       "    }\n",
       "\n",
       "    .dataframe thead th {\n",
       "        text-align: right;\n",
       "    }\n",
       "</style>\n",
       "<table border=\"1\" class=\"dataframe\">\n",
       "  <thead>\n",
       "    <tr style=\"text-align: right;\">\n",
       "      <th></th>\n",
       "      <th>temperature</th>\n",
       "      <th>windSpeed</th>\n",
       "      <th>humidity</th>\n",
       "    </tr>\n",
       "  </thead>\n",
       "  <tbody>\n",
       "    <tr>\n",
       "      <th>11890</th>\n",
       "      <td>-1.0</td>\n",
       "      <td>-1.0</td>\n",
       "      <td>36.0</td>\n",
       "    </tr>\n",
       "    <tr>\n",
       "      <th>53650</th>\n",
       "      <td>-1.0</td>\n",
       "      <td>-1.0</td>\n",
       "      <td>14.0</td>\n",
       "    </tr>\n",
       "    <tr>\n",
       "      <th>19198</th>\n",
       "      <td>-1.0</td>\n",
       "      <td>-1.0</td>\n",
       "      <td>50.0</td>\n",
       "    </tr>\n",
       "    <tr>\n",
       "      <th>638</th>\n",
       "      <td>-1.0</td>\n",
       "      <td>-1.0</td>\n",
       "      <td>44.0</td>\n",
       "    </tr>\n",
       "    <tr>\n",
       "      <th>21634</th>\n",
       "      <td>-1.0</td>\n",
       "      <td>-1.0</td>\n",
       "      <td>13.0</td>\n",
       "    </tr>\n",
       "  </tbody>\n",
       "</table>\n",
       "</div>"
      ],
      "text/plain": [
       "       temperature  windSpeed  humidity\n",
       "11890         -1.0       -1.0      36.0\n",
       "53650         -1.0       -1.0      14.0\n",
       "19198         -1.0       -1.0      50.0\n",
       "638           -1.0       -1.0      44.0\n",
       "21634         -1.0       -1.0      13.0"
      ]
     },
     "execution_count": 44,
     "metadata": {},
     "output_type": "execute_result"
    }
   ],
   "source": [
    "X_test.head()"
   ]
  },
  {
   "cell_type": "markdown",
   "metadata": {},
   "source": [
    "Decision Tree Classifier with Criterion Gini Index"
   ]
  },
  {
   "cell_type": "code",
   "execution_count": 45,
   "metadata": {},
   "outputs": [],
   "source": [
    "# import DecisionTreeClassifier\n",
    "\n",
    "from sklearn.tree import DecisionTreeClassifier"
   ]
  },
  {
   "cell_type": "code",
   "execution_count": 46,
   "metadata": {},
   "outputs": [
    {
     "data": {
      "text/html": [
       "<style>#sk-container-id-1 {color: black;}#sk-container-id-1 pre{padding: 0;}#sk-container-id-1 div.sk-toggleable {background-color: white;}#sk-container-id-1 label.sk-toggleable__label {cursor: pointer;display: block;width: 100%;margin-bottom: 0;padding: 0.3em;box-sizing: border-box;text-align: center;}#sk-container-id-1 label.sk-toggleable__label-arrow:before {content: \"▸\";float: left;margin-right: 0.25em;color: #696969;}#sk-container-id-1 label.sk-toggleable__label-arrow:hover:before {color: black;}#sk-container-id-1 div.sk-estimator:hover label.sk-toggleable__label-arrow:before {color: black;}#sk-container-id-1 div.sk-toggleable__content {max-height: 0;max-width: 0;overflow: hidden;text-align: left;background-color: #f0f8ff;}#sk-container-id-1 div.sk-toggleable__content pre {margin: 0.2em;color: black;border-radius: 0.25em;background-color: #f0f8ff;}#sk-container-id-1 input.sk-toggleable__control:checked~div.sk-toggleable__content {max-height: 200px;max-width: 100%;overflow: auto;}#sk-container-id-1 input.sk-toggleable__control:checked~label.sk-toggleable__label-arrow:before {content: \"▾\";}#sk-container-id-1 div.sk-estimator input.sk-toggleable__control:checked~label.sk-toggleable__label {background-color: #d4ebff;}#sk-container-id-1 div.sk-label input.sk-toggleable__control:checked~label.sk-toggleable__label {background-color: #d4ebff;}#sk-container-id-1 input.sk-hidden--visually {border: 0;clip: rect(1px 1px 1px 1px);clip: rect(1px, 1px, 1px, 1px);height: 1px;margin: -1px;overflow: hidden;padding: 0;position: absolute;width: 1px;}#sk-container-id-1 div.sk-estimator {font-family: monospace;background-color: #f0f8ff;border: 1px dotted black;border-radius: 0.25em;box-sizing: border-box;margin-bottom: 0.5em;}#sk-container-id-1 div.sk-estimator:hover {background-color: #d4ebff;}#sk-container-id-1 div.sk-parallel-item::after {content: \"\";width: 100%;border-bottom: 1px solid gray;flex-grow: 1;}#sk-container-id-1 div.sk-label:hover label.sk-toggleable__label {background-color: #d4ebff;}#sk-container-id-1 div.sk-serial::before {content: \"\";position: absolute;border-left: 1px solid gray;box-sizing: border-box;top: 0;bottom: 0;left: 50%;z-index: 0;}#sk-container-id-1 div.sk-serial {display: flex;flex-direction: column;align-items: center;background-color: white;padding-right: 0.2em;padding-left: 0.2em;position: relative;}#sk-container-id-1 div.sk-item {position: relative;z-index: 1;}#sk-container-id-1 div.sk-parallel {display: flex;align-items: stretch;justify-content: center;background-color: white;position: relative;}#sk-container-id-1 div.sk-item::before, #sk-container-id-1 div.sk-parallel-item::before {content: \"\";position: absolute;border-left: 1px solid gray;box-sizing: border-box;top: 0;bottom: 0;left: 50%;z-index: -1;}#sk-container-id-1 div.sk-parallel-item {display: flex;flex-direction: column;z-index: 1;position: relative;background-color: white;}#sk-container-id-1 div.sk-parallel-item:first-child::after {align-self: flex-end;width: 50%;}#sk-container-id-1 div.sk-parallel-item:last-child::after {align-self: flex-start;width: 50%;}#sk-container-id-1 div.sk-parallel-item:only-child::after {width: 0;}#sk-container-id-1 div.sk-dashed-wrapped {border: 1px dashed gray;margin: 0 0.4em 0.5em 0.4em;box-sizing: border-box;padding-bottom: 0.4em;background-color: white;}#sk-container-id-1 div.sk-label label {font-family: monospace;font-weight: bold;display: inline-block;line-height: 1.2em;}#sk-container-id-1 div.sk-label-container {text-align: center;}#sk-container-id-1 div.sk-container {/* jupyter's `normalize.less` sets `[hidden] { display: none; }` but bootstrap.min.css set `[hidden] { display: none !important; }` so we also need the `!important` here to be able to override the default hidden behavior on the sphinx rendered scikit-learn.org. See: https://github.com/scikit-learn/scikit-learn/issues/21755 */display: inline-block !important;position: relative;}#sk-container-id-1 div.sk-text-repr-fallback {display: none;}</style><div id=\"sk-container-id-1\" class=\"sk-top-container\"><div class=\"sk-text-repr-fallback\"><pre>DecisionTreeClassifier(max_depth=3, random_state=0)</pre><b>In a Jupyter environment, please rerun this cell to show the HTML representation or trust the notebook. <br />On GitHub, the HTML representation is unable to render, please try loading this page with nbviewer.org.</b></div><div class=\"sk-container\" hidden><div class=\"sk-item\"><div class=\"sk-estimator sk-toggleable\"><input class=\"sk-toggleable__control sk-hidden--visually\" id=\"sk-estimator-id-1\" type=\"checkbox\" checked><label for=\"sk-estimator-id-1\" class=\"sk-toggleable__label sk-toggleable__label-arrow\">DecisionTreeClassifier</label><div class=\"sk-toggleable__content\"><pre>DecisionTreeClassifier(max_depth=3, random_state=0)</pre></div></div></div></div></div>"
      ],
      "text/plain": [
       "DecisionTreeClassifier(max_depth=3, random_state=0)"
      ]
     },
     "execution_count": 46,
     "metadata": {},
     "output_type": "execute_result"
    }
   ],
   "source": [
    "# instantiate the DecisionTreeClassifier model with criterion gini index\n",
    "\n",
    "clf_gini = DecisionTreeClassifier(criterion='gini', max_depth=3, random_state=0)\n",
    "\n",
    "\n",
    "# fit the model\n",
    "clf_gini.fit(X_train, y_train)"
   ]
  },
  {
   "cell_type": "code",
   "execution_count": 47,
   "metadata": {},
   "outputs": [],
   "source": [
    "y_pred_gini = clf_gini.predict(X_test)"
   ]
  },
  {
   "cell_type": "code",
   "execution_count": 48,
   "metadata": {},
   "outputs": [
    {
     "name": "stdout",
     "output_type": "stream",
     "text": [
      "Model accuracy score with criterion gini index: 0.4040\n"
     ]
    }
   ],
   "source": [
    "from sklearn.metrics import accuracy_score\n",
    "\n",
    "print('Model accuracy score with criterion gini index: {0:0.4f}'. format(accuracy_score(y_test, y_pred_gini)))"
   ]
  },
  {
   "cell_type": "code",
   "execution_count": 49,
   "metadata": {},
   "outputs": [
    {
     "data": {
      "text/plain": [
       "array([0, 2, 2, 2, 2, 2, 2, 2, 2, 2, 2, 2, 2, 2, 2, 2, 1, 1, 2, 1, 2, 1,\n",
       "       1, 1, 2, 1, 1, 1, 1, 1, 1, 1, 1, 2, 1, 1, 2, 1, 1, 1, 1, 1, 1, 1,\n",
       "       1, 2, 1, 1, 2, 2, 2, 2, 2, 2, 2, 2, 2, 2, 2, 2, 2, 2, 1, 2, 2, 0,\n",
       "       0, 0, 2, 2, 0, 2, 2, 2, 2, 0, 2, 2, 2, 0, 0, 2, 0, 2, 2, 2, 2, 2,\n",
       "       2, 0, 2, 2, 2, 2, 2, 0, 2, 2, 2, 2, 2, 0, 2, 2, 2, 2, 2, 2, 2, 0,\n",
       "       2, 2, 2, 0, 2, 2, 0, 2, 2, 2, 2, 2, 2, 2, 2, 2, 2, 2, 2, 2, 2, 2,\n",
       "       2, 2, 2, 0, 0, 2, 2, 2, 2, 2, 0, 0, 2, 2, 2, 0, 2, 2, 2, 2, 0, 0,\n",
       "       2, 2, 0, 0, 2, 2, 2, 2, 2, 2, 2, 2, 2, 2, 0, 2, 2, 0, 2, 2, 2, 2,\n",
       "       2, 2, 2, 2, 2, 2, 0, 0, 2, 2, 2, 2, 2, 2, 0, 0, 0, 2, 2, 0, 2, 0,\n",
       "       0, 0, 0], dtype=int64)"
      ]
     },
     "execution_count": 49,
     "metadata": {},
     "output_type": "execute_result"
    }
   ],
   "source": [
    "y_pred_train_gini = clf_gini.predict(X_train)\n",
    "\n",
    "y_pred_train_gini"
   ]
  },
  {
   "cell_type": "code",
   "execution_count": 50,
   "metadata": {},
   "outputs": [
    {
     "name": "stdout",
     "output_type": "stream",
     "text": [
      "Training-set accuracy score: 0.4975\n"
     ]
    }
   ],
   "source": [
    "print('Training-set accuracy score: {0:0.4f}'. format(accuracy_score(y_train, y_pred_train_gini)))"
   ]
  },
  {
   "cell_type": "code",
   "execution_count": 51,
   "metadata": {},
   "outputs": [
    {
     "name": "stdout",
     "output_type": "stream",
     "text": [
      "Training set score: 0.4975\n",
      "Test set score: 0.4040\n"
     ]
    }
   ],
   "source": [
    "# print the scores on training and test set\n",
    "\n",
    "print('Training set score: {:.4f}'.format(clf_gini.score(X_train, y_train)))\n",
    "\n",
    "print('Test set score: {:.4f}'.format(clf_gini.score(X_test, y_test)))"
   ]
  },
  {
   "cell_type": "code",
   "execution_count": 60,
   "metadata": {},
   "outputs": [
    {
     "data": {
      "text/plain": [
       "[Text(0.4090909090909091, 0.875, 'x[2] <= 2.5\\ngini = 0.666\\nsamples = 201\\nvalue = [62, 68, 71]'),\n",
       " Text(0.18181818181818182, 0.625, 'x[2] <= 1.5\\ngini = 0.198\\nsamples = 9\\nvalue = [1, 0, 8]'),\n",
       " Text(0.09090909090909091, 0.375, 'gini = 0.0\\nsamples = 1\\nvalue = [1, 0, 0]'),\n",
       " Text(0.2727272727272727, 0.375, 'gini = 0.0\\nsamples = 8\\nvalue = [0, 0, 8]'),\n",
       " Text(0.6363636363636364, 0.625, 'x[0] <= 46.5\\ngini = 0.666\\nsamples = 192\\nvalue = [61, 68, 63]'),\n",
       " Text(0.45454545454545453, 0.375, 'x[2] <= 13.5\\ngini = 0.585\\nsamples = 46\\nvalue = [9, 26, 11]'),\n",
       " Text(0.36363636363636365, 0.125, 'gini = 0.665\\nsamples = 19\\nvalue = [6, 6, 7]'),\n",
       " Text(0.5454545454545454, 0.125, 'gini = 0.417\\nsamples = 27\\nvalue = [3, 20, 4]'),\n",
       " Text(0.8181818181818182, 0.375, 'x[2] <= 37.5\\ngini = 0.664\\nsamples = 146\\nvalue = [52, 42, 52]'),\n",
       " Text(0.7272727272727273, 0.125, 'gini = 0.656\\nsamples = 111\\nvalue = [34, 31, 46]'),\n",
       " Text(0.9090909090909091, 0.125, 'gini = 0.607\\nsamples = 35\\nvalue = [18, 11, 6]')]"
      ]
     },
     "execution_count": 60,
     "metadata": {},
     "output_type": "execute_result"
    },
    {
     "data": {
      "image/png": "[encoded data removed]",
      "text/plain": [
       "<Figure size 1200x800 with 1 Axes>"
      ]
     },
     "metadata": {},
     "output_type": "display_data"
    }
   ],
   "source": [
    "plt.figure(figsize=(12,8))\n",
    "\n",
    "from sklearn import tree\n",
    "\n",
    "tree.plot_tree(clf_gini.fit(X_train, y_train)) "
   ]
  },
  {
   "cell_type": "code",
   "execution_count": 90,
   "metadata": {},
   "outputs": [
    {
     "ename": "ModuleNotFoundError",
     "evalue": "No module named 'graphviz'",
     "output_type": "error",
     "traceback": [
      "\u001b[1;31m---------------------------------------------------------------------------\u001b[0m",
      "\u001b[1;31mModuleNotFoundError\u001b[0m                       Traceback (most recent call last)",
      "Cell \u001b[1;32mIn[90], line 1\u001b[0m\n\u001b[1;32m----> 1\u001b[0m \u001b[38;5;28;01mimport\u001b[39;00m \u001b[38;5;21;01mgraphviz\u001b[39;00m \n\u001b[0;32m      2\u001b[0m dot_data \u001b[38;5;241m=\u001b[39m tree\u001b[38;5;241m.\u001b[39mexport_graphviz(clf_gini, out_file\u001b[38;5;241m=\u001b[39m\u001b[38;5;28;01mNone\u001b[39;00m, \n\u001b[0;32m      3\u001b[0m                               feature_names\u001b[38;5;241m=\u001b[39mX_train\u001b[38;5;241m.\u001b[39mcolumns,  \n\u001b[0;32m      4\u001b[0m                               class_names\u001b[38;5;241m=\u001b[39my_train,  \n\u001b[0;32m      5\u001b[0m                               filled\u001b[38;5;241m=\u001b[39m\u001b[38;5;28;01mTrue\u001b[39;00m, rounded\u001b[38;5;241m=\u001b[39m\u001b[38;5;28;01mTrue\u001b[39;00m,  \n\u001b[0;32m      6\u001b[0m                               special_characters\u001b[38;5;241m=\u001b[39m\u001b[38;5;28;01mTrue\u001b[39;00m)\n\u001b[0;32m      8\u001b[0m graph \u001b[38;5;241m=\u001b[39m graphviz\u001b[38;5;241m.\u001b[39mSource(dot_data) \n",
      "\u001b[1;31mModuleNotFoundError\u001b[0m: No module named 'graphviz'"
     ]
    }
   ],
   "source": [
    "import graphviz \n",
    "dot_data = tree.export_graphviz(clf_gini, out_file=None, \n",
    "                              feature_names=X_train.columns,  \n",
    "                              class_names=y_train,  \n",
    "                              filled=True, rounded=True,  \n",
    "                              special_characters=True)\n",
    "\n",
    "graph = graphviz.Source(dot_data) \n",
    "\n",
    "graph "
   ]
  },
  {
   "cell_type": "code",
   "execution_count": 62,
   "metadata": {},
   "outputs": [
    {
     "data": {
      "text/html": [
       "<style>#sk-container-id-2 {color: black;}#sk-container-id-2 pre{padding: 0;}#sk-container-id-2 div.sk-toggleable {background-color: white;}#sk-container-id-2 label.sk-toggleable__label {cursor: pointer;display: block;width: 100%;margin-bottom: 0;padding: 0.3em;box-sizing: border-box;text-align: center;}#sk-container-id-2 label.sk-toggleable__label-arrow:before {content: \"▸\";float: left;margin-right: 0.25em;color: #696969;}#sk-container-id-2 label.sk-toggleable__label-arrow:hover:before {color: black;}#sk-container-id-2 div.sk-estimator:hover label.sk-toggleable__label-arrow:before {color: black;}#sk-container-id-2 div.sk-toggleable__content {max-height: 0;max-width: 0;overflow: hidden;text-align: left;background-color: #f0f8ff;}#sk-container-id-2 div.sk-toggleable__content pre {margin: 0.2em;color: black;border-radius: 0.25em;background-color: #f0f8ff;}#sk-container-id-2 input.sk-toggleable__control:checked~div.sk-toggleable__content {max-height: 200px;max-width: 100%;overflow: auto;}#sk-container-id-2 input.sk-toggleable__control:checked~label.sk-toggleable__label-arrow:before {content: \"▾\";}#sk-container-id-2 div.sk-estimator input.sk-toggleable__control:checked~label.sk-toggleable__label {background-color: #d4ebff;}#sk-container-id-2 div.sk-label input.sk-toggleable__control:checked~label.sk-toggleable__label {background-color: #d4ebff;}#sk-container-id-2 input.sk-hidden--visually {border: 0;clip: rect(1px 1px 1px 1px);clip: rect(1px, 1px, 1px, 1px);height: 1px;margin: -1px;overflow: hidden;padding: 0;position: absolute;width: 1px;}#sk-container-id-2 div.sk-estimator {font-family: monospace;background-color: #f0f8ff;border: 1px dotted black;border-radius: 0.25em;box-sizing: border-box;margin-bottom: 0.5em;}#sk-container-id-2 div.sk-estimator:hover {background-color: #d4ebff;}#sk-container-id-2 div.sk-parallel-item::after {content: \"\";width: 100%;border-bottom: 1px solid gray;flex-grow: 1;}#sk-container-id-2 div.sk-label:hover label.sk-toggleable__label {background-color: #d4ebff;}#sk-container-id-2 div.sk-serial::before {content: \"\";position: absolute;border-left: 1px solid gray;box-sizing: border-box;top: 0;bottom: 0;left: 50%;z-index: 0;}#sk-container-id-2 div.sk-serial {display: flex;flex-direction: column;align-items: center;background-color: white;padding-right: 0.2em;padding-left: 0.2em;position: relative;}#sk-container-id-2 div.sk-item {position: relative;z-index: 1;}#sk-container-id-2 div.sk-parallel {display: flex;align-items: stretch;justify-content: center;background-color: white;position: relative;}#sk-container-id-2 div.sk-item::before, #sk-container-id-2 div.sk-parallel-item::before {content: \"\";position: absolute;border-left: 1px solid gray;box-sizing: border-box;top: 0;bottom: 0;left: 50%;z-index: -1;}#sk-container-id-2 div.sk-parallel-item {display: flex;flex-direction: column;z-index: 1;position: relative;background-color: white;}#sk-container-id-2 div.sk-parallel-item:first-child::after {align-self: flex-end;width: 50%;}#sk-container-id-2 div.sk-parallel-item:last-child::after {align-self: flex-start;width: 50%;}#sk-container-id-2 div.sk-parallel-item:only-child::after {width: 0;}#sk-container-id-2 div.sk-dashed-wrapped {border: 1px dashed gray;margin: 0 0.4em 0.5em 0.4em;box-sizing: border-box;padding-bottom: 0.4em;background-color: white;}#sk-container-id-2 div.sk-label label {font-family: monospace;font-weight: bold;display: inline-block;line-height: 1.2em;}#sk-container-id-2 div.sk-label-container {text-align: center;}#sk-container-id-2 div.sk-container {/* jupyter's `normalize.less` sets `[hidden] { display: none; }` but bootstrap.min.css set `[hidden] { display: none !important; }` so we also need the `!important` here to be able to override the default hidden behavior on the sphinx rendered scikit-learn.org. See: https://github.com/scikit-learn/scikit-learn/issues/21755 */display: inline-block !important;position: relative;}#sk-container-id-2 div.sk-text-repr-fallback {display: none;}</style><div id=\"sk-container-id-2\" class=\"sk-top-container\"><div class=\"sk-text-repr-fallback\"><pre>DecisionTreeClassifier(criterion=&#x27;entropy&#x27;, max_depth=3, random_state=0)</pre><b>In a Jupyter environment, please rerun this cell to show the HTML representation or trust the notebook. <br />On GitHub, the HTML representation is unable to render, please try loading this page with nbviewer.org.</b></div><div class=\"sk-container\" hidden><div class=\"sk-item\"><div class=\"sk-estimator sk-toggleable\"><input class=\"sk-toggleable__control sk-hidden--visually\" id=\"sk-estimator-id-2\" type=\"checkbox\" checked><label for=\"sk-estimator-id-2\" class=\"sk-toggleable__label sk-toggleable__label-arrow\">DecisionTreeClassifier</label><div class=\"sk-toggleable__content\"><pre>DecisionTreeClassifier(criterion=&#x27;entropy&#x27;, max_depth=3, random_state=0)</pre></div></div></div></div></div>"
      ],
      "text/plain": [
       "DecisionTreeClassifier(criterion='entropy', max_depth=3, random_state=0)"
      ]
     },
     "execution_count": 62,
     "metadata": {},
     "output_type": "execute_result"
    }
   ],
   "source": [
    "# instantiate the DecisionTreeClassifier model with criterion entropy\n",
    "\n",
    "clf_en = DecisionTreeClassifier(criterion='entropy', max_depth=3, random_state=0)\n",
    "\n",
    "\n",
    "# fit the model\n",
    "clf_en.fit(X_train, y_train)"
   ]
  },
  {
   "cell_type": "code",
   "execution_count": 63,
   "metadata": {},
   "outputs": [],
   "source": [
    "y_pred_en = clf_en.predict(X_test)"
   ]
  },
  {
   "cell_type": "code",
   "execution_count": 64,
   "metadata": {},
   "outputs": [
    {
     "name": "stdout",
     "output_type": "stream",
     "text": [
      "Model accuracy score with criterion entropy: 0.3838\n"
     ]
    }
   ],
   "source": [
    "from sklearn.metrics import accuracy_score\n",
    "\n",
    "print('Model accuracy score with criterion entropy: {0:0.4f}'. format(accuracy_score(y_test, y_pred_en)))"
   ]
  },
  {
   "cell_type": "markdown",
   "metadata": {},
   "source": [
    "Compare the train-set and test-set accuracy"
   ]
  },
  {
   "cell_type": "code",
   "execution_count": 65,
   "metadata": {},
   "outputs": [
    {
     "data": {
      "text/plain": [
       "array([0, 2, 0, 0, 1, 1, 2, 1, 1, 1, 1, 1, 1, 1, 1, 1, 1, 1, 1, 1, 1, 1,\n",
       "       1, 1, 1, 1, 1, 1, 1, 1, 1, 1, 1, 1, 1, 1, 1, 1, 1, 1, 1, 1, 1, 1,\n",
       "       1, 2, 1, 1, 2, 2, 2, 2, 2, 2, 2, 2, 2, 2, 2, 2, 2, 2, 2, 2, 2, 0,\n",
       "       0, 0, 2, 2, 0, 2, 2, 2, 2, 0, 2, 2, 2, 0, 0, 2, 0, 2, 2, 2, 2, 2,\n",
       "       2, 0, 2, 2, 2, 2, 2, 0, 2, 2, 2, 2, 2, 0, 2, 2, 2, 2, 2, 2, 2, 0,\n",
       "       2, 2, 2, 0, 2, 1, 0, 2, 2, 2, 2, 2, 2, 2, 2, 2, 2, 2, 2, 2, 2, 2,\n",
       "       2, 2, 2, 0, 0, 2, 2, 2, 2, 2, 0, 0, 2, 2, 2, 0, 2, 2, 2, 2, 0, 0,\n",
       "       2, 1, 0, 0, 2, 2, 2, 2, 2, 1, 2, 2, 2, 2, 0, 2, 2, 0, 2, 2, 2, 2,\n",
       "       2, 2, 2, 2, 2, 2, 0, 0, 2, 2, 2, 2, 2, 2, 0, 0, 0, 2, 2, 0, 2, 0,\n",
       "       0, 0, 0], dtype=int64)"
      ]
     },
     "execution_count": 65,
     "metadata": {},
     "output_type": "execute_result"
    }
   ],
   "source": [
    "y_pred_train_en = clf_en.predict(X_train)\n",
    "\n",
    "y_pred_train_en"
   ]
  },
  {
   "cell_type": "code",
   "execution_count": 66,
   "metadata": {},
   "outputs": [
    {
     "name": "stdout",
     "output_type": "stream",
     "text": [
      "Training-set accuracy score: 0.4925\n"
     ]
    }
   ],
   "source": [
    "print('Training-set accuracy score: {0:0.4f}'. format(accuracy_score(y_train, y_pred_train_en)))"
   ]
  },
  {
   "cell_type": "code",
   "execution_count": 67,
   "metadata": {},
   "outputs": [
    {
     "name": "stdout",
     "output_type": "stream",
     "text": [
      "Training set score: 0.4925\n",
      "Test set score: 0.3838\n"
     ]
    }
   ],
   "source": [
    "# print the scores on training and test set\n",
    "\n",
    "print('Training set score: {:.4f}'.format(clf_en.score(X_train, y_train)))\n",
    "\n",
    "print('Test set score: {:.4f}'.format(clf_en.score(X_test, y_test)))"
   ]
  },
  {
   "cell_type": "code",
   "execution_count": 68,
   "metadata": {},
   "outputs": [
    {
     "data": {
      "text/plain": [
       "[Text(0.4090909090909091, 0.875, 'x[2] <= 2.5\\nentropy = 1.583\\nsamples = 201\\nvalue = [62, 68, 71]'),\n",
       " Text(0.18181818181818182, 0.625, 'x[2] <= 1.5\\nentropy = 0.503\\nsamples = 9\\nvalue = [1, 0, 8]'),\n",
       " Text(0.09090909090909091, 0.375, 'entropy = 0.0\\nsamples = 1\\nvalue = [1, 0, 0]'),\n",
       " Text(0.2727272727272727, 0.375, 'entropy = 0.0\\nsamples = 8\\nvalue = [0, 0, 8]'),\n",
       " Text(0.6363636363636364, 0.625, 'x[1] <= 47.5\\nentropy = 1.583\\nsamples = 192\\nvalue = [61, 68, 63]'),\n",
       " Text(0.45454545454545453, 0.375, 'x[1] <= 4.5\\nentropy = 1.42\\nsamples = 47\\nvalue = [8, 26, 13]'),\n",
       " Text(0.36363636363636365, 0.125, 'entropy = 0.0\\nsamples = 2\\nvalue = [2, 0, 0]'),\n",
       " Text(0.5454545454545454, 0.125, 'entropy = 1.362\\nsamples = 45\\nvalue = [6, 26, 13]'),\n",
       " Text(0.8181818181818182, 0.375, 'x[2] <= 37.5\\nentropy = 1.578\\nsamples = 145\\nvalue = [53, 42, 50]'),\n",
       " Text(0.7272727272727273, 0.125, 'entropy = 1.569\\nsamples = 110\\nvalue = [35, 31, 44]'),\n",
       " Text(0.9090909090909091, 0.125, 'entropy = 1.454\\nsamples = 35\\nvalue = [18, 11, 6]')]"
      ]
     },
     "execution_count": 68,
     "metadata": {},
     "output_type": "execute_result"
    },
    {
     "data": {
      "image/png": "[encoded data removed]",
      "text/plain": [
       "<Figure size 1200x800 with 1 Axes>"
      ]
     },
     "metadata": {},
     "output_type": "display_data"
    }
   ],
   "source": [
    "plt.figure(figsize=(12,8))\n",
    "\n",
    "from sklearn import tree\n",
    "\n",
    "tree.plot_tree(clf_en.fit(X_train, y_train)) "
   ]
  }
 ],
 "metadata": {
  "kernelspec": {
   "display_name": "base",
   "language": "python",
   "name": "python3"
  },
  "language_info": {
   "codemirror_mode": {
    "name": "ipython",
    "version": 3
   },
   "file_extension": ".py",
   "mimetype": "text/x-python",
   "name": "python",
   "nbconvert_exporter": "python",
   "pygments_lexer": "ipython3",
   "version": "3.11.4"
  }
 },
 "nbformat": 4,
 "nbformat_minor": 2
}
